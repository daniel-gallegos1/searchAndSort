{
 "cells": [
  {
   "cell_type": "code",
   "execution_count": 29,
   "id": "e8cc9500",
   "metadata": {},
   "outputs": [
    {
     "name": "stdout",
     "output_type": "stream",
     "text": [
      "NUMBERS: 2 4 7 10 11 32 45 87 \n",
      "Enter a value: 234\n",
      "\n",
      "Starting Binary Search\n",
      "Low index, value:  0 , 2 \t High index, value:  7 , 87 \t Mid index, value:  3 , 10\n",
      "---Inputted value is greater than mid---\n",
      "Low index, value:  4 , 11 \t High index, value:  7 , 87 \t Mid index, value:  5 , 32\n",
      "---Inputted value is greater than mid---\n",
      "Low index, value:  6 , 45 \t High index, value:  7 , 87 \t Mid index, value:  6 , 45\n",
      "---Inputted value is greater than mid---\n",
      "Low index, value:  7 , 87 \t High index, value:  7 , 87 \t Mid index, value:  7 , 87\n",
      "---Inputted value is greater than mid---\n",
      "234 was not found.\n"
     ]
    }
   ],
   "source": [
    "def binary_search(numbers, key):\n",
    "    print('\\nStarting Binary Search')\n",
    "    low = 0\n",
    "    high = len(numbers) - 1\n",
    "\n",
    "    while high >= low:\n",
    "        mid = (high + low) // 2\n",
    "        print('Low index, value: ', low, ',', numbers[low], '\\t High index, value: ', high, ',', numbers[high], '\\t Mid index, value: ', mid, ',', numbers[mid])\n",
    "        if numbers[mid] < key:\n",
    "            print('---Inputted value is greater than mid---')\n",
    "            low = mid + 1\n",
    "        elif numbers[mid] > key:\n",
    "            print('---Inputted value is less than mid---')\n",
    "            high = mid - 1\n",
    "        else:\n",
    "            print('---Inputted value equals mid---')\n",
    "            return mid\n",
    "    return -1 # not found\n",
    "   \n",
    " \n",
    "numbers = [2, 4, 7, 10, 11, 32, 45, 87]\n",
    "print('NUMBERS:', end=' ')\n",
    "for num in numbers:\n",
    "    print(num, end=' ')\n",
    "print()\n",
    " \n",
    "key = int(input('Enter a value: '))\n",
    "key_index = binary_search(numbers, key)\n",
    "\n",
    "if key_index == -1:\n",
    "    print(f'{key} was not found.')\n",
    "else:\n",
    "    print(f'Found {key} at index {key_index}.')"
   ]
  },
  {
   "cell_type": "code",
   "execution_count": null,
   "id": "3bde6a09",
   "metadata": {},
   "outputs": [],
   "source": []
  }
 ],
 "metadata": {
  "kernelspec": {
   "display_name": "Python 3 (ipykernel)",
   "language": "python",
   "name": "python3"
  },
  "language_info": {
   "codemirror_mode": {
    "name": "ipython",
    "version": 3
   },
   "file_extension": ".py",
   "mimetype": "text/x-python",
   "name": "python",
   "nbconvert_exporter": "python",
   "pygments_lexer": "ipython3",
   "version": "3.11.5"
  }
 },
 "nbformat": 4,
 "nbformat_minor": 5
}
